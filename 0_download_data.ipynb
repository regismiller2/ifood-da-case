{
 "cells": [
  {
   "cell_type": "markdown",
   "id": "f0d735af",
   "metadata": {},
   "source": [
    "# Download dados do Bucket S3"
   ]
  },
  {
   "cell_type": "code",
   "execution_count": null,
   "id": "8e5d6eaa",
   "metadata": {},
   "outputs": [],
   "source": [
    "import boto3\n",
    "import botocore\n",
    "import os\n",
    "import tarfile\n",
    "\n",
    "# --- CONFIGURAÇÕES ---\n",
    "BUCKET_NAME = 'data-architect-test-source'\n",
    "DOWNLOAD_DIR = 'data_files'\n",
    "TAR_FILE_NAME = 'ab_test_ref.tar.gz'\n",
    "RUN_DOWNLOAD = True        # Define se deve baixar os arquivos\n",
    "RUN_EXTRACTION = True      # Define se deve extrair os arquivos após o download\n",
    "\n",
    "def download_public_files(bucket_name: str, download_dir: str) -> None:\n",
    "    \"\"\"\n",
    "    Baixa arquivos públicos de um bucket S3 usando acesso anônimo.\n",
    "    \n",
    "    Args:\n",
    "        bucket_name (str): Nome do bucket S3 público.\n",
    "        download_dir (str): Diretório onde os arquivos serão salvos.\n",
    "    \"\"\"\n",
    "    # Cria cliente S3 com acesso anônimo\n",
    "    s3 = boto3.client('s3', config=botocore.client.Config(signature_version=botocore.UNSIGNED))\n",
    "    os.makedirs(download_dir, exist_ok=True)\n",
    "\n",
    "    # Lista objetos no bucket\n",
    "    response = s3.list_objects_v2(Bucket=bucket_name)\n",
    "\n",
    "    if 'Contents' in response:\n",
    "        for obj in response['Contents']:\n",
    "            key = obj['Key']\n",
    "            file_path = os.path.join(download_dir, os.path.basename(key))\n",
    "            os.makedirs(os.path.dirname(file_path), exist_ok=True)\n",
    "\n",
    "            print(f'Baixando {key}...')\n",
    "            s3.download_file(bucket_name, key, file_path)\n",
    "    else:\n",
    "        print(\"Nenhum arquivo encontrado ou acesso negado.\")\n",
    "\n",
    "def extract_tar_gz(tar_path: str, extract_to: str) -> None:\n",
    "    \"\"\"\n",
    "    Extrai arquivos de um arquivo .tar.gz.\n",
    "\n",
    "    Args:\n",
    "        tar_path (str): Caminho do arquivo .tar.gz.\n",
    "        extract_to (str): Pasta de destino para os arquivos extraídos.\n",
    "    \"\"\"\n",
    "    os.makedirs(extract_to, exist_ok=True)\n",
    "\n",
    "    with tarfile.open(tar_path, \"r:gz\") as tar:\n",
    "        tar.extractall(path=extract_to)\n",
    "        print(\"Arquivos extraídos:\")\n",
    "        for member in tar.getnames():\n",
    "            print(f\" - {member}\")\n",
    "\n",
    "if __name__ == \"__main__\":\n",
    "    if RUN_DOWNLOAD:\n",
    "        download_public_files(BUCKET_NAME, DOWNLOAD_DIR)\n",
    "\n",
    "    if RUN_EXTRACTION:\n",
    "        tar_file_path = os.path.join(DOWNLOAD_DIR, TAR_FILE_NAME)\n",
    "        extract_tar_gz(tar_file_path, DOWNLOAD_DIR)\n"
   ]
  }
 ],
 "metadata": {
  "kernelspec": {
   "display_name": "Python 3",
   "language": "python",
   "name": "python3"
  },
  "language_info": {
   "codemirror_mode": {
    "name": "ipython",
    "version": 3
   },
   "file_extension": ".py",
   "mimetype": "text/x-python",
   "name": "python",
   "nbconvert_exporter": "python",
   "pygments_lexer": "ipython3",
   "version": "3.10.12"
  }
 },
 "nbformat": 4,
 "nbformat_minor": 5
}
